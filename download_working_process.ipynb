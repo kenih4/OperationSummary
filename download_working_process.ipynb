{
 "cells": [
  {
   "cell_type": "code",
   "execution_count": 1,
   "id": "aae1470d-8d6c-48a4-8a30-24ed957bf805",
   "metadata": {},
   "outputs": [],
   "source": [
    "#!/usr/bin/env python\n",
    "# coding: utf-8\n",
    "\n",
    "import os\n",
    "import platform\n",
    "from smb.SMBConnection import SMBConnection\n",
    "import shutil\n",
    "\n",
    "import pandas as pd\n",
    "import datetime\n",
    "import numpy as np\n",
    "import openpyxl as xl\n",
    "import work_process as wp"
   ]
  },
  {
   "cell_type": "code",
   "execution_count": 2,
   "id": "523aadda-732f-47f3-b64f-faa22794ee46",
   "metadata": {},
   "outputs": [],
   "source": [
    "# download\n",
    "\n",
    "def download_working_process():\n",
    "    conn = SMBConnection('sesopr','ses@sacla5712',platform.uname().node,'SACLAOPR18')\n",
    "    conn.connect('10.10.188.38',139)\n",
    "\n",
    "    with open('C:/Users/hasegawa-t/Documents/シフト/作業工程.xlsx', 'wb') as file:\n",
    "#        conn.retrieveFile('common','停止期間工程\\R04年度停止期間工程\\年度末点検期間/【2022年度 年度末点検調整期間作業工程】.xlsx', file)\n",
    "        conn.retrieveFile('common','シフト/2023年度/【2023年度 A期作業工程】.xlsx', file)\n",
    "    conn.close()\n"
   ]
  },
  {
   "cell_type": "code",
   "execution_count": 3,
   "id": "ccea8097-3503-45b2-8374-9b31f0d178ab",
   "metadata": {},
   "outputs": [],
   "source": [
    "download_working_process()"
   ]
  },
  {
   "cell_type": "code",
   "execution_count": null,
   "id": "c88f3a4f-0ff2-49af-9627-4f669febdb42",
   "metadata": {},
   "outputs": [],
   "source": []
  }
 ],
 "metadata": {
  "kernelspec": {
   "display_name": "Python 3 (ipykernel)",
   "language": "python",
   "name": "python3"
  },
  "language_info": {
   "codemirror_mode": {
    "name": "ipython",
    "version": 3
   },
   "file_extension": ".py",
   "mimetype": "text/x-python",
   "name": "python",
   "nbconvert_exporter": "python",
   "pygments_lexer": "ipython3",
   "version": "3.10.6"
  }
 },
 "nbformat": 4,
 "nbformat_minor": 5
}
