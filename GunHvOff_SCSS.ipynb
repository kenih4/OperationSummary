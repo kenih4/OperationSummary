{
 "cells": [
  {
   "cell_type": "code",
   "execution_count": 1,
   "id": "6e7df653-143e-42a3-967b-ee341a6df6d5",
   "metadata": {},
   "outputs": [],
   "source": [
    "#!/usr/bin/python\n",
    "# -*- coding: utf-8 -*-\n",
    "\n",
    "from mdaq import pymdaq_web\n",
    "import datetime\n",
    "import time\n",
    "import pandas as pd\n",
    "import sys\n",
    "import codecs\n",
    "import os\n",
    "import sys\n",
    "import binascii\n",
    "import requests\n",
    "from requests.exceptions import Timeout\n",
    "import pandas as pd\n",
    "import openpyxl\n",
    "import subprocess\n",
    "import copy\n",
    "import libCom\n",
    "import schedule"
   ]
  },
  {
   "cell_type": "code",
   "execution_count": 2,
   "id": "2ad91429-7c4a-4a1a-9e89-d8e6c9717661",
   "metadata": {},
   "outputs": [
    {
     "name": "stderr",
     "output_type": "stream",
     "text": [
      "WARNING: This library version is older than the REST-API server.  rest-server:1.3.0>lib:1.2.0\n"
     ]
    }
   ],
   "source": [
    "db = pymdaq_web.db(\"xfweb-dmz-03\", port=8888)"
   ]
  },
  {
   "cell_type": "code",
   "execution_count": 3,
   "id": "1ed0032e-5560-4cef-a917-64c5f127548c",
   "metadata": {},
   "outputs": [],
   "source": [
    "################################リスト操作の関数################################"
   ]
  },
  {
   "cell_type": "code",
   "execution_count": 4,
   "id": "5a3641e4-af18-473d-965f-4ee9261637b3",
   "metadata": {},
   "outputs": [],
   "source": [
    "#辞書型のリストから指定したkeyと一致（一致 flg = 0, 不一致　flg = 0以外）するリストを返す\n",
    "def extract_list_specified_key(list, key, find_value, flg):\n",
    "    list_tmp = []\n",
    "        \n",
    "    for i in range(len(list)):\n",
    "        if flg == 0:\n",
    "            if list[i][key] == find_value:\n",
    "                list_tmp.append(list[i]) \n",
    "        else:\n",
    "            if list[i][key] != find_value:\n",
    "                list_tmp.append(list[i]) \n",
    "\n",
    "    return list_tmp"
   ]
  },
  {
   "cell_type": "code",
   "execution_count": 5,
   "id": "b5939609-8920-4bab-a5d4-83c8d75536b5",
   "metadata": {},
   "outputs": [],
   "source": [
    "################################GUN HV OFF 時間の取得################################"
   ]
  },
  {
   "cell_type": "code",
   "execution_count": 6,
   "id": "6a92c824-947d-43db-98cf-c7a2d9e4945d",
   "metadata": {},
   "outputs": [],
   "source": [
    "#期間内のGUN ON/OFF時間を取得する。最大31日未満。\n",
    "def get_gun_status_long_time(time_beg, time_end):\n",
    "    limit_day = 400\n",
    "    time_list = []\n",
    "    hv_list = []\n",
    "    \n",
    "    if (time_end-time_beg).days >= limit_day or (time_end-time_beg).days < 0:\n",
    "        ret = -1\n",
    "        print(\"DB GET Time ERROR\")\n",
    "    else:\n",
    "        time_bk = time_beg\n",
    "        while (time_bk - time_end).days < 0:\n",
    "            time_list.append(time_bk.strftime(\"%Y/%m/%d %H:%M:%S\"))\n",
    "            time_bk = time_bk + datetime.timedelta(days = 2)\n",
    "\n",
    "        time_list.append(time_end.strftime(\"%Y/%m/%d %H:%M:%S\"))\n",
    "        # print(timeList)\n",
    "        for i in range(len(time_list)):\n",
    "            if i < (len(time_list)-1):\n",
    "                res = get_gun_status_db(time_list[i], time_list[i+1])\n",
    "                if type(res) is list:\n",
    "                    hv_list.extend(res)\n",
    "                time.sleep(1)       \n",
    "        return hv_list\n",
    "    \n",
    "\n",
    "\n",
    "#範囲時間内のGUNのステータスを取得\n",
    "def get_gun_status_db(dt_beg, dt_end):\n",
    "    hv_list =[]\n",
    "    signal_name = 'scss_rf_gun_ctrl/status'\n",
    "    \n",
    "    ret = check_db_get_time(dt_beg, dt_end)\n",
    "    \n",
    "    if ret == 0:   \n",
    "        res = db.get_data(signal_name,dt_beg,dt_end)\n",
    "        if db.status()==pymdaq_web.DB_OK:\n",
    "            res.sort()\n",
    "            hv_list = get_gun_off_time(res)\n",
    "            return hv_list\n",
    "        else:\n",
    "            print(\"ERR: %d  Msg: %s\"%(db.status(),db.err_msg()))\n",
    "            return db.status()\n",
    "\n",
    "            \n",
    "#DB取得時間が3日未満か確認する\n",
    "def check_db_get_time(dt_beg, dt_end):\n",
    "\n",
    "    limit_day =  3\n",
    "    time = datetime.datetime.strptime(dt_beg, \"%Y/%m/%d %H:%M:%S\")\n",
    "    time2 = datetime.datetime.strptime(dt_end, \"%Y/%m/%d %H:%M:%S\")\n",
    "    \n",
    "    if (time2-time).days >= limit_day or (time2-time).days < 0:\n",
    "        ret = -1\n",
    "        print(\"DB GET Time ERROR\")\n",
    "    else:\n",
    "        ret = 0\n",
    "    \n",
    "    return ret\n",
    "\n",
    "#GUNのステータスリストからGUN ON/OFF時間のリストを取得する\n",
    "\n",
    "def get_gun_off_time(sig_res):\n",
    "    sig_res.sort()\n",
    "    list = []\n",
    "    status = \"ON\"\n",
    "\n",
    "    for i in range(len(sig_res)):\n",
    "        if sig_res[i][1] & (1 << 2) == 0:\n",
    "            if status == \"ON\":\n",
    "                off_time = datetime.datetime.strptime(sig_res[i][0], \"%Y/%m/%d %H:%M:%S.%f\").replace(microsecond = 0)\n",
    "                status = \"OFF\"\n",
    "        else:\n",
    "            if status == \"OFF\":\n",
    "                on_time = datetime.datetime.strptime(sig_res[i][0], \"%Y/%m/%d %H:%M:%S.%f\").replace(microsecond = 0)\n",
    "                status = \"ON\"\n",
    "                \n",
    "                td = on_time - off_time\n",
    "                if td.total_seconds() >2:#2秒以下を排除\n",
    "                    list.append([off_time, on_time])\n",
    "\n",
    "        if (status == \"OFF\") & (i == (len(sig_res) -1)):\n",
    "            on_time = datetime.datetime.strptime(sig_res[i][0], \"%Y/%m/%d %H:%M:%S.%f\").replace(microsecond = 0)\n",
    "            list.append([off_time, on_time])\n",
    "        \n",
    "    \n",
    "    \n",
    "    return list"
   ]
  },
  {
   "cell_type": "code",
   "execution_count": 7,
   "id": "f678e35e-5ee8-4d79-bd65-e66d8f677d4f",
   "metadata": {},
   "outputs": [],
   "source": [
    "#EXCELにGUN HV OFF時間を書き込む\n",
    "def write_excel_gun_hv_time(list):\n",
    "#    wb = openpyxl.load_workbook(r\"C:\\Users\\kokubu\\Documents\\python\\OperationSummary\\SCSS_計画時間.xlsx\")    \n",
    "    wb = openpyxl.load_workbook(r\"C:\\Users\\hasegawa-t\\Desktop\\OperationSummary\\SCSS_計画時間.xlsx\")    \n",
    "#    wb = openpyxl.load_workbook(\"C:\\\\Users\\\\hasegawa-t\\\\Desktop\\\\OperationSummary\\\\SCSS_計画時間.xlsx\")  \n",
    "    ws = wb.create_sheet()\n",
    "    ws.title = \"test\"\n",
    "    sheet_name = \"GUN HV OFF\"\n",
    "    offset = 0\n",
    "    \n",
    "    for ws2 in wb.worksheets:\n",
    "        if ws2.title.endswith(sheet_name):\n",
    "            wb.remove(ws2)\n",
    "            \n",
    "    write_excel_gun_hv_time_bl(ws, list)\n",
    "    libCom.auto_sheet_width(ws)\n",
    "    ws.title = sheet_name    \n",
    "    wb.save(r\"C:\\Users\\hasegawa-t\\Desktop\\OperationSummary\\SCSS_計画時間.xlsx\")\n",
    "#    wb.save(\"C:\\\\Users\\\\hasegawa-t\\\\Desktop\\\\OperationSummary\\\\SCSS_計画時間.xlsx\")\n",
    "    \n",
    "#EXCELにBLごとのGUN HV OFF時間を書き込む\n",
    "def write_excel_gun_hv_time_bl(ws, list):\n",
    "\n",
    "              \n",
    "    ws.cell(1,1 ,value = \"SCSS\")\n",
    "    ws.cell(2,1,value = 'GUN HV OFF')\n",
    "    ws.cell(2,2,value = 'GUN HV ON')\n",
    "\n",
    "\n",
    "    #配列ループ\n",
    "    for i in range(0,len(list)):\n",
    "        #列にリストを書き込み\n",
    "        ws.cell(i+3,1,value = list[i][0]).number_format = 'yyyy/mm/dd hh:mm'\n",
    "        ws.cell(i+3,2,value = list[i][1]).number_format = 'yyyy/mm/dd hh:mm'\n"
   ]
  },
  {
   "cell_type": "code",
   "execution_count": 8,
   "id": "7a90260b-45c2-4cda-bfd7-74230ef3d768",
   "metadata": {},
   "outputs": [],
   "source": [
    "#指定したformat形式の時間の差分を返す\n",
    "def calc_delta_time_format(start_time, end_time, format):\n",
    "    stime = datetime.datetime.strptime(start_time, format)\n",
    "    etime = datetime.datetime.strptime(end_time, format)\n",
    "    dtime = etime- stime\n",
    "    return dtime\n",
    "\n",
    "#deltatime形式を[hh:mm:ss]の文字列形式に変換する\n",
    "def format_timedelta(timedelta):\n",
    "  total_sec = timedelta.total_seconds()\n",
    "  # hours\n",
    "  hours = total_sec // 3600 \n",
    "  # remaining seconds\n",
    "  remain = total_sec - (hours * 3600)\n",
    "  # minutes\n",
    "  minutes = remain // 60\n",
    "  # remaining seconds\n",
    "  seconds = remain - (minutes * 60)\n",
    "\n",
    "  # total time\n",
    "  return '{:02}:{:02}:{:02}'.format(int(hours), int(minutes), int(seconds))"
   ]
  },
  {
   "cell_type": "code",
   "execution_count": 9,
   "id": "c1604891-8e36-43a5-98ef-92947001e8b0",
   "metadata": {},
   "outputs": [],
   "source": [
    "#日時を指定してGUNのOFF/ON時間の出力する\n",
    "def output_excel_gun_hvoff_time():\n",
    "     \n",
    "    val = input(\"開始日時を入力してください。　(例)2021/11/1 10:00 >>>\")\n",
    "    try:\n",
    "        dt_beg = datetime.datetime.strptime(val, \"%Y/%m/%d %H:%M\")\n",
    "    except ValueError:\n",
    "        print (\"エラー：日時のフォーマットが正しくありません。\")\n",
    "        return -1\n",
    "\n",
    "    val = input(\"終了日時を入力してください　(例)2021/11/15 10:00 >>>\")\n",
    "    try:\n",
    "        dt_end = datetime.datetime.strptime(val, \"%Y/%m/%d %H:%M\")\n",
    "    except ValueError:\n",
    "        print (\"エラー：日時のフォーマットが正しくありません。\")\n",
    "        return -1\n",
    "    \n",
    "    \n",
    "    gun_list = get_gun_status_long_time(dt_beg, dt_end)\n",
    "    libCom.print_list(gun_list)\n",
    "\n",
    "    write_excel_gun_hv_time(gun_list)\n",
    "    return 0"
   ]
  },
  {
   "cell_type": "code",
   "execution_count": 10,
   "id": "2600989a-afcc-458a-88d5-db5bab552ec9",
   "metadata": {
    "tags": []
   },
   "outputs": [
    {
     "name": "stdin",
     "output_type": "stream",
     "text": [
      "開始日時を入力してください。　(例)2021/11/1 10:00 >>> 2024/04/15 10:00\n",
      "終了日時を入力してください　(例)2021/11/15 10:00 >>> 2024/04/25 10:00\n"
     ]
    },
    {
     "name": "stdout",
     "output_type": "stream",
     "text": [
      "[datetime.datetime(2024, 4, 16, 18, 2, 45), datetime.datetime(2024, 4, 16, 18, 2, 53)]\n",
      "[datetime.datetime(2024, 4, 17, 8, 34, 38), datetime.datetime(2024, 4, 17, 8, 34, 47)]\n",
      "[datetime.datetime(2024, 4, 23, 10, 26, 26), datetime.datetime(2024, 4, 25, 9, 59, 58)]\n",
      "正常終了しました\n"
     ]
    }
   ],
   "source": [
    "ret = output_excel_gun_hvoff_time()\n",
    "if ret == 0:\n",
    "    print(\"正常終了しました\")\n",
    "    EXCEL = r\"C:\\Users\\hasegawa-t\\Desktop\\OperationSummary\\SCSS_計画時間.xlsx\"\n",
    "#    EXCEL = \"C:\\\\Users\\\\hasegawa-t\\\\Desktop\\\\OperationSummary\\\\SCSS_計画時間.xlsx\"\n",
    "    subprocess.Popen(['start', EXCEL], shell=True)\n",
    "else:\n",
    "    print(\"異常終了しました\")\n",
    "time.sleep(60)\n",
    "          \n"
   ]
  }
 ],
 "metadata": {
  "kernelspec": {
   "display_name": "Python 3 (ipykernel)",
   "language": "python",
   "name": "python3"
  },
  "language_info": {
   "codemirror_mode": {
    "name": "ipython",
    "version": 3
   },
   "file_extension": ".py",
   "mimetype": "text/x-python",
   "name": "python",
   "nbconvert_exporter": "python",
   "pygments_lexer": "ipython3",
   "version": "3.10.6"
  }
 },
 "nbformat": 4,
 "nbformat_minor": 5
}
