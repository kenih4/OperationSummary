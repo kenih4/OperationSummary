{
 "cells": [
  {
   "cell_type": "code",
   "execution_count": 1,
   "id": "9495ef49-3239-4279-b03d-ce9ec17127a5",
   "metadata": {},
   "outputs": [],
   "source": [
    "#!/usr/bin/python\n",
    "# -*- coding: utf-8 -*-\n",
    "\n",
    "from mdaq import pymdaq_web\n",
    "import datetime\n",
    "import time\n",
    "import pandas as pd\n",
    "import sys\n",
    "import codecs\n",
    "import os\n",
    "import sys\n",
    "import binascii\n",
    "import requests\n",
    "from requests.exceptions import Timeout\n",
    "import pandas as pd\n",
    "import openpyxl\n",
    "import subprocess\n",
    "import copy\n",
    "import libCom\n",
    "import schedule\n",
    "import GunHvOff"
   ]
  },
  {
   "cell_type": "code",
   "execution_count": 2,
   "id": "1318a373-8fbe-40c7-a3e4-f016b778ad7f",
   "metadata": {
    "jp-MarkdownHeadingCollapsed": true,
    "tags": []
   },
   "outputs": [
    {
     "name": "stdin",
     "output_type": "stream",
     "text": [
      "加速器を選択してください。  1:SCSS, Other:SACLA >>> 9\n",
      "開始日時を入力してください。　(例)2021/11/1 10:00 >>> 2024/9/17 10:00\n",
      "終了日時を入力してください　(例)2021/11/15 10:00 >>> 2024/9/30 10:00\n",
      "計画時間をDBから読み込みますか　yes(y) or no(n)　>>> y\n"
     ]
    },
    {
     "name": "stdout",
     "output_type": "stream",
     "text": [
      "計画時間をDBから読み込みます\n",
      "{'start': datetime.datetime(2024, 9, 17, 10, 0), 'end': datetime.datetime(2024, 9, 17, 13, 38), 'bl2_time': '施設調整', 'bl3_time': '施設調整'}\n",
      "{'start': datetime.datetime(2024, 9, 17, 14, 4), 'end': datetime.datetime(2024, 9, 17, 14, 6), 'bl2_time': '施設調整', 'bl3_time': '施設調整'}\n",
      "{'start': datetime.datetime(2024, 9, 18, 1, 32), 'end': datetime.datetime(2024, 9, 18, 1, 57), 'bl2_time': '施設調整', 'bl3_time': '施設調整'}\n",
      "{'start': datetime.datetime(2024, 9, 18, 9, 33), 'end': datetime.datetime(2024, 9, 18, 11, 12), 'bl2_time': '施設調整', 'bl3_time': '施設調整'}\n",
      "{'start': datetime.datetime(2024, 9, 18, 11, 50), 'end': datetime.datetime(2024, 9, 18, 12, 3), 'bl2_time': '施設調整', 'bl3_time': '施設調整'}\n",
      "{'start': datetime.datetime(2024, 9, 18, 15, 16), 'end': datetime.datetime(2024, 9, 18, 15, 17), 'bl2_time': '施設調整', 'bl3_time': '施設調整'}\n",
      "{'start': datetime.datetime(2024, 9, 18, 18, 27), 'end': datetime.datetime(2024, 9, 18, 18, 36), 'bl2_time': '施設調整', 'bl3_time': '施設調整'}\n",
      "{'start': datetime.datetime(2024, 9, 20, 8, 57), 'end': datetime.datetime(2024, 9, 20, 9, 21), 'bl2_time': '施設調整', 'bl3_time': '施設調整'}\n",
      "{'start': datetime.datetime(2024, 9, 21, 0, 17), 'end': datetime.datetime(2024, 9, 21, 0, 18), 'bl2_time': '施設調整', 'bl3_time': '施設調整'}\n",
      "{'start': datetime.datetime(2024, 9, 26, 7, 3), 'end': datetime.datetime(2024, 9, 26, 7, 4), 'bl2_time': '利用調整', 'bl3_time': 'ユーザー'}\n",
      "{'start': datetime.datetime(2024, 9, 29, 11, 25), 'end': datetime.datetime(2024, 9, 29, 11, 27), 'bl2_time': '利用調整', 'bl3_time': '利用調整'}\n",
      "正常終了しました\n"
     ]
    }
   ],
   "source": [
    "ret = GunHvOff.output_excel_gun_hvoff_time()\n",
    "if ret == 0:\n",
    "    print(\"正常終了しました\")\n",
    "    EXCEL = schedule.計画時間ファイル\n",
    "    subprocess.Popen(['start', EXCEL], shell=True)\n",
    "else:\n",
    "    print(\"異常終了しました\")\n",
    "time.sleep(60)"
   ]
  },
  {
   "cell_type": "code",
   "execution_count": null,
   "id": "12da2f29-f93f-4cd5-bedc-7754312459b6",
   "metadata": {},
   "outputs": [],
   "source": []
  }
 ],
 "metadata": {
  "kernelspec": {
   "display_name": "Python 3 (ipykernel)",
   "language": "python",
   "name": "python3"
  },
  "language_info": {
   "codemirror_mode": {
    "name": "ipython",
    "version": 3
   },
   "file_extension": ".py",
   "mimetype": "text/x-python",
   "name": "python",
   "nbconvert_exporter": "python",
   "pygments_lexer": "ipython3",
   "version": "3.11.7"
  }
 },
 "nbformat": 4,
 "nbformat_minor": 5
}
