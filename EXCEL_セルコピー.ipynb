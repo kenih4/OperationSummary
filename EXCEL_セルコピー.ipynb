{
 "cells": [
  {
   "cell_type": "code",
   "execution_count": 1,
   "id": "220d45b7-9807-451d-a41f-79177079c612",
   "metadata": {},
   "outputs": [],
   "source": [
    "import openpyxl\n",
    "import openpyxl as px\n",
    "import openpyxl as MergedCell\n",
    "from openpyxl.utils import get_column_letter\n",
    "import copy"
   ]
  },
  {
   "cell_type": "code",
   "execution_count": 2,
   "id": "8170b86b-d3d5-429c-a697-288ac19a1567",
   "metadata": {},
   "outputs": [
    {
     "name": "stderr",
     "output_type": "stream",
     "text": [
      "C:\\Users\\kokubu\\AppData\\Local\\Programs\\Python\\Python310\\lib\\site-packages\\openpyxl\\worksheet\\_reader.py:312: UserWarning: Conditional Formatting extension is not supported and will be removed\n",
      "  warn(msg)\n"
     ]
    },
    {
     "ename": "IndexError",
     "evalue": "list index out of range",
     "output_type": "error",
     "traceback": [
      "\u001b[1;31m---------------------------------------------------------------------------\u001b[0m",
      "\u001b[1;31mIndexError\u001b[0m                                Traceback (most recent call last)",
      "\u001b[1;32m~\\AppData\\Local\\Temp/ipykernel_14436/2248235438.py\u001b[0m in \u001b[0;36m<module>\u001b[1;34m\u001b[0m\n\u001b[0;32m     62\u001b[0m \u001b[1;31m#[1,1]～[10,20]までの範囲のセルをコピー。\u001b[0m\u001b[1;33m\u001b[0m\u001b[1;33m\u001b[0m\u001b[0m\n\u001b[0;32m     63\u001b[0m \u001b[1;31m#コピー先は12行(shift_row)シフトした場所です。\u001b[0m\u001b[1;33m\u001b[0m\u001b[1;33m\u001b[0m\u001b[0m\n\u001b[1;32m---> 64\u001b[1;33m RangeCopyCell( \n\u001b[0m\u001b[0;32m     65\u001b[0m     \u001b[0msheet\u001b[0m \u001b[1;33m=\u001b[0m \u001b[0mws\u001b[0m\u001b[1;33m,\u001b[0m\u001b[1;33m\u001b[0m\u001b[1;33m\u001b[0m\u001b[0m\n\u001b[0;32m     66\u001b[0m     \u001b[0msheet_copy\u001b[0m \u001b[1;33m=\u001b[0m \u001b[0mws2\u001b[0m\u001b[1;33m,\u001b[0m\u001b[1;33m\u001b[0m\u001b[1;33m\u001b[0m\u001b[0m\n",
      "\u001b[1;32m~\\AppData\\Local\\Temp/ipykernel_14436/2248235438.py\u001b[0m in \u001b[0;36mRangeCopyCell\u001b[1;34m(sheet, sheet_copy, min_col, min_row, max_col, max_row, shift_col, shift_row)\u001b[0m\n\u001b[0;32m     47\u001b[0m                 \u001b[0msheet\u001b[0m\u001b[1;33m.\u001b[0m\u001b[0mmerge_cells\u001b[0m\u001b[1;33m(\u001b[0m\u001b[0mmerged_cell\u001b[0m\u001b[1;33m.\u001b[0m\u001b[0mcoord\u001b[0m\u001b[1;33m)\u001b[0m\u001b[1;33m;\u001b[0m\u001b[1;33m\u001b[0m\u001b[1;33m\u001b[0m\u001b[0m\n\u001b[0;32m     48\u001b[0m                 \u001b[1;31m#コピー先のセルの結合範囲情報を作成する。\u001b[0m\u001b[1;33m\u001b[0m\u001b[1;33m\u001b[0m\u001b[0m\n\u001b[1;32m---> 49\u001b[1;33m                 \u001b[0mnewCellRange\u001b[0m \u001b[1;33m=\u001b[0m \u001b[0mcopy\u001b[0m\u001b[1;33m.\u001b[0m\u001b[0mcopy\u001b[0m\u001b[1;33m(\u001b[0m\u001b[0mmerged_cell\u001b[0m\u001b[1;33m)\u001b[0m\u001b[1;33m;\u001b[0m\u001b[1;33m\u001b[0m\u001b[1;33m\u001b[0m\u001b[0m\n\u001b[0m\u001b[0;32m     50\u001b[0m                 \u001b[1;31m#コピー先のセルの結合範囲情報をずらす。ここではshiftRow分ずらしている。\u001b[0m\u001b[1;33m\u001b[0m\u001b[1;33m\u001b[0m\u001b[0m\n\u001b[0;32m     51\u001b[0m                 \u001b[0mnewCellRange\u001b[0m\u001b[1;33m.\u001b[0m\u001b[0mshift\u001b[0m\u001b[1;33m(\u001b[0m\u001b[0mshift_col\u001b[0m\u001b[1;33m,\u001b[0m \u001b[0mshift_row\u001b[0m\u001b[1;33m)\u001b[0m\u001b[1;33m;\u001b[0m\u001b[1;33m\u001b[0m\u001b[1;33m\u001b[0m\u001b[0m\n",
      "\u001b[1;32m~\\AppData\\Local\\Programs\\Python\\Python310\\lib\\copy.py\u001b[0m in \u001b[0;36mcopy\u001b[1;34m(x)\u001b[0m\n\u001b[0;32m     82\u001b[0m     \u001b[0mcopier\u001b[0m \u001b[1;33m=\u001b[0m \u001b[0mgetattr\u001b[0m\u001b[1;33m(\u001b[0m\u001b[0mcls\u001b[0m\u001b[1;33m,\u001b[0m \u001b[1;34m\"__copy__\"\u001b[0m\u001b[1;33m,\u001b[0m \u001b[1;32mNone\u001b[0m\u001b[1;33m)\u001b[0m\u001b[1;33m\u001b[0m\u001b[1;33m\u001b[0m\u001b[0m\n\u001b[0;32m     83\u001b[0m     \u001b[1;32mif\u001b[0m \u001b[0mcopier\u001b[0m \u001b[1;32mis\u001b[0m \u001b[1;32mnot\u001b[0m \u001b[1;32mNone\u001b[0m\u001b[1;33m:\u001b[0m\u001b[1;33m\u001b[0m\u001b[1;33m\u001b[0m\u001b[0m\n\u001b[1;32m---> 84\u001b[1;33m         \u001b[1;32mreturn\u001b[0m \u001b[0mcopier\u001b[0m\u001b[1;33m(\u001b[0m\u001b[0mx\u001b[0m\u001b[1;33m)\u001b[0m\u001b[1;33m\u001b[0m\u001b[1;33m\u001b[0m\u001b[0m\n\u001b[0m\u001b[0;32m     85\u001b[0m \u001b[1;33m\u001b[0m\u001b[0m\n\u001b[0;32m     86\u001b[0m     \u001b[0mreductor\u001b[0m \u001b[1;33m=\u001b[0m \u001b[0mdispatch_table\u001b[0m\u001b[1;33m.\u001b[0m\u001b[0mget\u001b[0m\u001b[1;33m(\u001b[0m\u001b[0mcls\u001b[0m\u001b[1;33m)\u001b[0m\u001b[1;33m\u001b[0m\u001b[1;33m\u001b[0m\u001b[0m\n",
      "\u001b[1;32m~\\AppData\\Local\\Programs\\Python\\Python310\\lib\\site-packages\\openpyxl\\worksheet\\merge.py\u001b[0m in \u001b[0;36m__copy__\u001b[1;34m(self)\u001b[0m\n\u001b[0;32m    139\u001b[0m \u001b[1;33m\u001b[0m\u001b[0m\n\u001b[0;32m    140\u001b[0m     \u001b[1;32mdef\u001b[0m \u001b[0m__copy__\u001b[0m\u001b[1;33m(\u001b[0m\u001b[0mself\u001b[0m\u001b[1;33m)\u001b[0m\u001b[1;33m:\u001b[0m\u001b[1;33m\u001b[0m\u001b[1;33m\u001b[0m\u001b[0m\n\u001b[1;32m--> 141\u001b[1;33m         \u001b[1;32mreturn\u001b[0m \u001b[0mself\u001b[0m\u001b[1;33m.\u001b[0m\u001b[0m__class__\u001b[0m\u001b[1;33m(\u001b[0m\u001b[0mself\u001b[0m\u001b[1;33m.\u001b[0m\u001b[0mws\u001b[0m\u001b[1;33m,\u001b[0m \u001b[0mself\u001b[0m\u001b[1;33m.\u001b[0m\u001b[0mcoord\u001b[0m\u001b[1;33m)\u001b[0m\u001b[1;33m\u001b[0m\u001b[1;33m\u001b[0m\u001b[0m\n\u001b[0m",
      "\u001b[1;32m~\\AppData\\Local\\Programs\\Python\\Python310\\lib\\site-packages\\openpyxl\\worksheet\\merge.py\u001b[0m in \u001b[0;36m__init__\u001b[1;34m(self, worksheet, coord)\u001b[0m\n\u001b[0;32m     68\u001b[0m         \u001b[0msuper\u001b[0m\u001b[1;33m(\u001b[0m\u001b[1;33m)\u001b[0m\u001b[1;33m.\u001b[0m\u001b[0m__init__\u001b[0m\u001b[1;33m(\u001b[0m\u001b[0mrange_string\u001b[0m\u001b[1;33m=\u001b[0m\u001b[0mcoord\u001b[0m\u001b[1;33m)\u001b[0m\u001b[1;33m\u001b[0m\u001b[1;33m\u001b[0m\u001b[0m\n\u001b[0;32m     69\u001b[0m         \u001b[0mself\u001b[0m\u001b[1;33m.\u001b[0m\u001b[0mstart_cell\u001b[0m \u001b[1;33m=\u001b[0m \u001b[1;32mNone\u001b[0m\u001b[1;33m\u001b[0m\u001b[1;33m\u001b[0m\u001b[0m\n\u001b[1;32m---> 70\u001b[1;33m         \u001b[0mself\u001b[0m\u001b[1;33m.\u001b[0m\u001b[0m_get_borders\u001b[0m\u001b[1;33m(\u001b[0m\u001b[1;33m)\u001b[0m\u001b[1;33m\u001b[0m\u001b[1;33m\u001b[0m\u001b[0m\n\u001b[0m\u001b[0;32m     71\u001b[0m \u001b[1;33m\u001b[0m\u001b[0m\n\u001b[0;32m     72\u001b[0m \u001b[1;33m\u001b[0m\u001b[0m\n",
      "\u001b[1;32m~\\AppData\\Local\\Programs\\Python\\Python310\\lib\\site-packages\\openpyxl\\worksheet\\merge.py\u001b[0m in \u001b[0;36m_get_borders\u001b[1;34m(self)\u001b[0m\n\u001b[0;32m     87\u001b[0m         \u001b[0mend_cell\u001b[0m \u001b[1;33m=\u001b[0m \u001b[0mself\u001b[0m\u001b[1;33m.\u001b[0m\u001b[0mws\u001b[0m\u001b[1;33m.\u001b[0m\u001b[0m_cells\u001b[0m\u001b[1;33m.\u001b[0m\u001b[0mget\u001b[0m\u001b[1;33m(\u001b[0m\u001b[1;33m(\u001b[0m\u001b[0mself\u001b[0m\u001b[1;33m.\u001b[0m\u001b[0mmax_row\u001b[0m\u001b[1;33m,\u001b[0m \u001b[0mself\u001b[0m\u001b[1;33m.\u001b[0m\u001b[0mmax_col\u001b[0m\u001b[1;33m)\u001b[0m\u001b[1;33m)\u001b[0m\u001b[1;33m\u001b[0m\u001b[1;33m\u001b[0m\u001b[0m\n\u001b[0;32m     88\u001b[0m         \u001b[1;32mif\u001b[0m \u001b[0mend_cell\u001b[0m \u001b[1;32mis\u001b[0m \u001b[1;32mnot\u001b[0m \u001b[1;32mNone\u001b[0m\u001b[1;33m:\u001b[0m\u001b[1;33m\u001b[0m\u001b[1;33m\u001b[0m\u001b[0m\n\u001b[1;32m---> 89\u001b[1;33m             self.start_cell.border += Border(right=end_cell.border.right,\n\u001b[0m\u001b[0;32m     90\u001b[0m                                              bottom=end_cell.border.bottom)\n\u001b[0;32m     91\u001b[0m \u001b[1;33m\u001b[0m\u001b[0m\n",
      "\u001b[1;32m~\\AppData\\Local\\Programs\\Python\\Python310\\lib\\site-packages\\openpyxl\\styles\\styleable.py\u001b[0m in \u001b[0;36m__get__\u001b[1;34m(self, instance, cls)\u001b[0m\n\u001b[0;32m     33\u001b[0m             \u001b[0minstance\u001b[0m\u001b[1;33m.\u001b[0m\u001b[0m_style\u001b[0m \u001b[1;33m=\u001b[0m \u001b[0mStyleArray\u001b[0m\u001b[1;33m(\u001b[0m\u001b[1;33m)\u001b[0m\u001b[1;33m\u001b[0m\u001b[1;33m\u001b[0m\u001b[0m\n\u001b[0;32m     34\u001b[0m         \u001b[0midx\u001b[0m \u001b[1;33m=\u001b[0m  \u001b[0mgetattr\u001b[0m\u001b[1;33m(\u001b[0m\u001b[0minstance\u001b[0m\u001b[1;33m.\u001b[0m\u001b[0m_style\u001b[0m\u001b[1;33m,\u001b[0m \u001b[0mself\u001b[0m\u001b[1;33m.\u001b[0m\u001b[0mkey\u001b[0m\u001b[1;33m)\u001b[0m\u001b[1;33m\u001b[0m\u001b[1;33m\u001b[0m\u001b[0m\n\u001b[1;32m---> 35\u001b[1;33m         \u001b[1;32mreturn\u001b[0m \u001b[0mStyleProxy\u001b[0m\u001b[1;33m(\u001b[0m\u001b[0mcoll\u001b[0m\u001b[1;33m[\u001b[0m\u001b[0midx\u001b[0m\u001b[1;33m]\u001b[0m\u001b[1;33m)\u001b[0m\u001b[1;33m\u001b[0m\u001b[1;33m\u001b[0m\u001b[0m\n\u001b[0m\u001b[0;32m     36\u001b[0m \u001b[1;33m\u001b[0m\u001b[0m\n\u001b[0;32m     37\u001b[0m \u001b[1;33m\u001b[0m\u001b[0m\n",
      "\u001b[1;31mIndexError\u001b[0m: list index out of range"
     ]
    }
   ],
   "source": [
    "#sheet ワークシート\n",
    "#min_col 範囲コピーの最小列番号\n",
    "#min_row 範囲コピーの最小行番号\n",
    "#max_col 範囲コピーの最大列番号\n",
    "#max_row 範囲コピーの最大行番号\n",
    "#shift_col コピー先の列のオフセット\n",
    "#shift_row コピー先の行のオフセット\n",
    "\n",
    "def RangeCopyCell( sheet, sheet_copy, min_col, min_row, max_col, max_row, shift_col, shift_row ):\n",
    "    #コピー元の結合されたセルの結合を解除していく。\n",
    "    merged_cells = copy.deepcopy(sheet.merged_cells);\n",
    "    for merged_cell in merged_cells :\n",
    "        if merged_cell.min_row >= min_row \\\n",
    "            and merged_cell.min_col >= min_col \\\n",
    "            and merged_cell.max_row <= max_row \\\n",
    "            and merged_cell.max_col <= max_col :\n",
    "                #結合を解除していく。\n",
    "                sheet.unmerge_cells(merged_cell.coord);\n",
    "\n",
    "    #全セルをコピー\n",
    "    for col in range( min_col, max_col+1):\n",
    "        for row in range( min_row, max_row+1):\n",
    "            fmt = \"{min_col}{min_row}\"\n",
    "            #コピー元のコードを作成。\n",
    "            copySrcCoord = fmt.format(\n",
    "                min_col = get_column_letter(col),\n",
    "                min_row = row );\n",
    "\n",
    "            #コピー先のコードを作成。\n",
    "            copyDstCoord = fmt.format(\n",
    "                min_col = get_column_letter(col + shift_col),\n",
    "                min_row = row + shift_row );\n",
    "            #コピー先に値をコピー。\n",
    "            if type(sheet[copySrcCoord]) != MergedCell :\n",
    "                sheet_copy[copyDstCoord].value = sheet[copySrcCoord].value;\n",
    "                #書式があったら、書式もコピー。\n",
    "                if sheet[copySrcCoord].has_style :\n",
    "                    sheet_copy[copyDstCoord]._style = sheet[copySrcCoord]._style;\n",
    "\n",
    "    #結合解除したセルを再結合していく。\n",
    "    for merged_cell in merged_cells :\n",
    "        if merged_cell.min_row >= min_row \\\n",
    "            and merged_cell.min_col >= min_col \\\n",
    "            and merged_cell.max_row <= max_row \\\n",
    "            and merged_cell.max_col <= max_col :\n",
    "                #結合していく。\n",
    "                sheet.merge_cells(merged_cell.coord);\n",
    "                #コピー先のセルの結合範囲情報を作成する。\n",
    "                newCellRange = copy.copy(merged_cell);\n",
    "                #コピー先のセルの結合範囲情報をずらす。ここではshiftRow分ずらしている。\n",
    "                newCellRange.shift(shift_col, shift_row);\n",
    "                sheet_copy.merge_cells(newCellRange.coord);\n",
    "    return 0;\n",
    "\n",
    "#サンプルコード\n",
    "#ブックを開く。\n",
    "wb = openpyxl.load_workbook(r\"C:\\Users\\kokubu\\Documents\\python\\OperationSummary\\2021年度SACLA運転状況集計まとめ.xlsm\")\n",
    "ws = wb[ \"21-17(BL2)\" ]\n",
    "ws2 = wb[ \"test\" ]\n",
    "\n",
    "#セルの範囲コピーを実行。\n",
    "#[1,1]～[10,20]までの範囲のセルをコピー。\n",
    "#コピー先は12行(shift_row)シフトした場所です。\n",
    "RangeCopyCell( \n",
    "    sheet = ws, \n",
    "    sheet_copy = ws2,\n",
    "    min_col = 1,\n",
    "    min_row = 1, \n",
    "    max_col = 10, \n",
    "    max_row = 20, \n",
    "    shift_col = 0, \n",
    "    shift_row = 12 \n",
    ");\n",
    "\n",
    "wb.save(r\"C:\\Users\\kokubu\\Documents\\python\\OperationSummary\\2021年度SACLA運転状況集計まとめ.xlsm\")"
   ]
  }
 ],
 "metadata": {
  "kernelspec": {
   "display_name": "Python 3 (ipykernel)",
   "language": "python",
   "name": "python3"
  },
  "language_info": {
   "codemirror_mode": {
    "name": "ipython",
    "version": 3
   },
   "file_extension": ".py",
   "mimetype": "text/x-python",
   "name": "python",
   "nbconvert_exporter": "python",
   "pygments_lexer": "ipython3",
   "version": "3.10.6"
  }
 },
 "nbformat": 4,
 "nbformat_minor": 5
}
