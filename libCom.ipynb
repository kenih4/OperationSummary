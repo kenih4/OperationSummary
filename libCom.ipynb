{
 "cells": [
  {
   "cell_type": "code",
   "execution_count": 1,
   "id": "de2594d8-499f-48e9-bfaa-e2f6aa54037e",
   "metadata": {},
   "outputs": [],
   "source": [
    "#リストを1行ずつprintする\n",
    "def print_list(list):\n",
    "    for i in range(len(list)):\n",
    "        print(list[i])"
   ]
  },
  {
   "cell_type": "code",
   "execution_count": 2,
   "id": "8749fc23-632a-4197-8a4a-fb27658715dd",
   "metadata": {},
   "outputs": [],
   "source": [
    "#シートのセル幅を自動で整える\n",
    "def auto_sheet_width(ws):\n",
    "    for col in ws.columns:\n",
    "        max_length = 0\n",
    "        column = col[0].column\n",
    "\n",
    "        for cell in col:\n",
    "            if get_east_asian_width_count(str(cell.value)) > max_length:\n",
    "                max_length = get_east_asian_width_count(str(cell.value))\n",
    "\n",
    "        adjusted_width = (max_length + 2) * 1.0\n",
    "        ws.column_dimensions[col[0].column_letter].width = adjusted_width\n",
    "        \n",
    "        \n",
    "#半角を1文字、全角2を文字としてカウントする\n",
    "import unicodedata\n",
    "def get_east_asian_width_count(text):\n",
    "    count = 0\n",
    "    for c in text:\n",
    "        if unicodedata.east_asian_width(c) in 'FWA':\n",
    "            count += 2\n",
    "        else:\n",
    "            count += 1\n",
    "    return count"
   ]
  }
 ],
 "metadata": {
  "kernelspec": {
   "display_name": "Python 3 (ipykernel)",
   "language": "python",
   "name": "python3"
  },
  "language_info": {
   "codemirror_mode": {
    "name": "ipython",
    "version": 3
   },
   "file_extension": ".py",
   "mimetype": "text/x-python",
   "name": "python",
   "nbconvert_exporter": "python",
   "pygments_lexer": "ipython3",
   "version": "3.10.6"
  }
 },
 "nbformat": 4,
 "nbformat_minor": 5
}
