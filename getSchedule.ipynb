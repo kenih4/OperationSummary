{
 "cells": [
  {
   "cell_type": "code",
   "execution_count": 1,
   "id": "8fc74450-ed15-40a1-a2d9-01f189e2560e",
   "metadata": {},
   "outputs": [],
   "source": [
    "import libCom\n",
    "import schedule\n",
    "import BlFaultSummary\n",
    "import datetime\n",
    "import sys\n",
    "import os\n",
    "import subprocess\n",
    "import time"
   ]
  },
  {
   "cell_type": "code",
   "execution_count": 2,
   "id": "8deffae1-ea85-44fb-a1dd-4d83a105e5eb",
   "metadata": {},
   "outputs": [
    {
     "name": "stdin",
     "output_type": "stream",
     "text": [
      "加速器を選択してください。  1:SCSS, Other:SACLA >>> 1\n",
      "開始日時を入力してください。　(例)2021/11/1 10:00 >>> 2024/04/15 10:00\n",
      "終了日時を入力してください　(例)2021/11/15 10:00 >>> 2024/04/25 10:00\n"
     ]
    },
    {
     "name": "stdout",
     "output_type": "stream",
     "text": [
      "正常終了しました\n"
     ]
    }
   ],
   "source": [
    "ret = schedule.output_excel_schedule_time()\n",
    "if ret == 0:\n",
    "    print(\"正常終了しました\")\n",
    "    EXCEL = schedule.計画時間ファイル\n",
    "    subprocess.Popen(['start', EXCEL], shell=True)\n",
    "else:\n",
    "    print(\"異常終了しました\")\n",
    "time.sleep(60)\n"
   ]
  }
 ],
 "metadata": {
  "kernelspec": {
   "display_name": "Python 3 (ipykernel)",
   "language": "python",
   "name": "python3"
  },
  "language_info": {
   "codemirror_mode": {
    "name": "ipython",
    "version": 3
   },
   "file_extension": ".py",
   "mimetype": "text/x-python",
   "name": "python",
   "nbconvert_exporter": "python",
   "pygments_lexer": "ipython3",
   "version": "3.10.6"
  }
 },
 "nbformat": 4,
 "nbformat_minor": 5
}
