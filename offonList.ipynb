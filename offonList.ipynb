{
 "cells": [
  {
   "cell_type": "code",
   "execution_count": null,
   "id": "98de16be-f56a-46ec-9caa-80b41ac559ca",
   "metadata": {},
   "outputs": [],
   "source": []
  },
  {
   "cell_type": "code",
   "execution_count": null,
   "id": "a5d7ab7b-1e4a-4d52-84a5-b031a388d314",
   "metadata": {},
   "outputs": [],
   "source": [
    "#開始時間が時間範囲内を抽出したリストを返す\n",
    "def get_list_period_start_time(list, dt_beg, dt_end):\n",
    "    list_tmp = []\n",
    "        \n",
    "    for i in range(len(list)):       \n",
    "        if list[i]['start'] >= dt_beg and list[i]['start'] < dt_end:\n",
    "            list_tmp.append(list[i])\n",
    "    return list_tmp\n",
    "\n",
    "\n",
    "#時間範囲内を抽出したリストを返す\n",
    "def get_list_period_time(list, dt_beg, dt_end):\n",
    "    list_tmp = []\n",
    "        \n",
    "    for i in range(len(list)):\n",
    "        if (dt_beg <= list[i][\"end\"]) and (dt_end >= list[i]['start']):#期間内判定\n",
    "       # if list[i]['start'] >= dt_beg and list[i]['start'] < dt_end:\n",
    "            list_tmp.append(list[i])\n",
    "    return list_tmp"
   ]
  },
  {
   "cell_type": "code",
   "execution_count": null,
   "id": "be479156-2276-4ea1-bca3-bb8f1ea35554",
   "metadata": {},
   "outputs": [],
   "source": [
    "#listの指定したkeyのformat形式の時間文字列をdatetimeに変換する\n",
    "def list_key_strptime(list, key, format):\n",
    "    for i in range(len(list)):\n",
    "        list[i][key] = datetime.datetime.strptime(list[i][key], format)      \n",
    "    return list"
   ]
  },
  {
   "cell_type": "code",
   "execution_count": null,
   "id": "b514f0b0-7de2-43be-93bd-859620341f8a",
   "metadata": {},
   "outputs": [],
   "source": [
    "#辞書型のリストから指定したkeyと一致（一致 flg = 0, 不一致　flg = 0以外）するリストを返す\n",
    "def extract_list_specified_key(list, key, find_value, flg):\n",
    "    list_tmp = []\n",
    "        \n",
    "    for i in range(len(list)):\n",
    "        if flg == 0:\n",
    "            if list[i][key] == find_value:\n",
    "                list_tmp.append(list[i]) \n",
    "        else:\n",
    "            if list[i][key] != find_value:\n",
    "                list_tmp.append(list[i]) \n",
    "\n",
    "    return list_tmp"
   ]
  },
  {
   "cell_type": "code",
   "execution_count": null,
   "id": "35124bae-79db-40cf-b27f-15a9fc4c78f7",
   "metadata": {},
   "outputs": [],
   "source": [
    "#期間を指定した日数毎に区切ったList取得する。\n",
    "def get_days_period_list(start_time, end_time, days_period):\n",
    "    time_list = []\n",
    "    period_list = []\n",
    "\n",
    "    \n",
    "    if (end_time-start_time).days < 0:\n",
    "        ret = -1\n",
    "        print(\"Time ERROR\")\n",
    "    else:\n",
    "        time_bk = start_time\n",
    "        while (time_bk - end_time).days < 0:\n",
    "            time_list.append(time_bk)\n",
    "            time_bk = time_bk + datetime.timedelta(days = days_period)\n",
    "\n",
    "        time_list.append(end_time)\n",
    "        \n",
    "        for i in range(len(time_list)):\n",
    "            if i < (len(time_list)-1):\n",
    "                 period_list.append({\"start\":time_list[i], \"end\":time_list[i+1]})\n",
    "    \n",
    "    return period_list"
   ]
  }
 ],
 "metadata": {
  "kernelspec": {
   "display_name": "Python 3 (ipykernel)",
   "language": "python",
   "name": "python3"
  },
  "language_info": {
   "codemirror_mode": {
    "name": "ipython",
    "version": 3
   },
   "file_extension": ".py",
   "mimetype": "text/x-python",
   "name": "python",
   "nbconvert_exporter": "python",
   "pygments_lexer": "ipython3",
   "version": "3.10.6"
  }
 },
 "nbformat": 4,
 "nbformat_minor": 5
}
